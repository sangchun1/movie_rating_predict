{
 "cells": [
  {
   "cell_type": "code",
   "execution_count": 3,
   "metadata": {},
   "outputs": [
    {
     "data": {
      "text/html": [
       "<div>\n",
       "<style scoped>\n",
       "    .dataframe tbody tr th:only-of-type {\n",
       "        vertical-align: middle;\n",
       "    }\n",
       "\n",
       "    .dataframe tbody tr th {\n",
       "        vertical-align: top;\n",
       "    }\n",
       "\n",
       "    .dataframe thead th {\n",
       "        text-align: right;\n",
       "    }\n",
       "</style>\n",
       "<table border=\"1\" class=\"dataframe\">\n",
       "  <thead>\n",
       "    <tr style=\"text-align: right;\">\n",
       "      <th></th>\n",
       "      <th>영화ID</th>\n",
       "      <th>영화명</th>\n",
       "      <th>개봉일</th>\n",
       "      <th>국적</th>\n",
       "      <th>장르</th>\n",
       "      <th>감독</th>\n",
       "      <th>배우</th>\n",
       "    </tr>\n",
       "  </thead>\n",
       "  <tbody>\n",
       "    <tr>\n",
       "      <th>0</th>\n",
       "      <td>0</td>\n",
       "      <td>범죄도시2</td>\n",
       "      <td>2022-05-18</td>\n",
       "      <td>한국</td>\n",
       "      <td>범죄,액션</td>\n",
       "      <td>이상용</td>\n",
       "      <td>마동석,손석구,최귀화,박지환,허동원,하준,정재광,남문철,박지영,이주원,음문석,김찬형...</td>\n",
       "    </tr>\n",
       "    <tr>\n",
       "      <th>1</th>\n",
       "      <td>1</td>\n",
       "      <td>아바타: 물의 길</td>\n",
       "      <td>2022-12-14</td>\n",
       "      <td>미국</td>\n",
       "      <td>액션,어드벤처,SF,스릴러</td>\n",
       "      <td>제임스 카메론</td>\n",
       "      <td>조 샐다나,샘 워싱턴,시고니 위버,스티븐 랭,케이트 윈슬렛</td>\n",
       "    </tr>\n",
       "    <tr>\n",
       "      <th>2</th>\n",
       "      <td>2</td>\n",
       "      <td>탑건: 매버릭</td>\n",
       "      <td>2022-06-22</td>\n",
       "      <td>미국</td>\n",
       "      <td>액션</td>\n",
       "      <td>조셉 코신스키</td>\n",
       "      <td>톰 크루즈,마일즈 텔러,제니퍼 코넬리,존 햄,에드 해리스,글렌 포웰,제이 엘리스,그...</td>\n",
       "    </tr>\n",
       "    <tr>\n",
       "      <th>3</th>\n",
       "      <td>3</td>\n",
       "      <td>스파이더맨: 노 웨이 홈</td>\n",
       "      <td>2021-12-15</td>\n",
       "      <td>미국</td>\n",
       "      <td>액션,어드벤처,SF</td>\n",
       "      <td>존 왓츠</td>\n",
       "      <td>톰 홀랜드,젠데이아 콜먼,베네딕트 컴버배치,제이콥 배덜런,존 파브로,마리사 토메이</td>\n",
       "    </tr>\n",
       "    <tr>\n",
       "      <th>4</th>\n",
       "      <td>4</td>\n",
       "      <td>한산: 용의 출현</td>\n",
       "      <td>2022-07-27</td>\n",
       "      <td>한국</td>\n",
       "      <td>액션,드라마</td>\n",
       "      <td>김한민</td>\n",
       "      <td>박해일,이지영,이정태,변요한,안성기,손현주,김성규,김성균,김향기,옥택연,공명,박지환...</td>\n",
       "    </tr>\n",
       "    <tr>\n",
       "      <th>...</th>\n",
       "      <td>...</td>\n",
       "      <td>...</td>\n",
       "      <td>...</td>\n",
       "      <td>...</td>\n",
       "      <td>...</td>\n",
       "      <td>...</td>\n",
       "      <td>...</td>\n",
       "    </tr>\n",
       "    <tr>\n",
       "      <th>15839</th>\n",
       "      <td>15839</td>\n",
       "      <td>허수아비들의 땅</td>\n",
       "      <td>2009-04-30</td>\n",
       "      <td>한국</td>\n",
       "      <td>드라마</td>\n",
       "      <td>노경태</td>\n",
       "      <td>김선영,박원주,김화정,김두홍,신예슬,황상연,박현진,서민정,최경락,최광수,윤심경,임독...</td>\n",
       "    </tr>\n",
       "    <tr>\n",
       "      <th>15840</th>\n",
       "      <td>15840</td>\n",
       "      <td>혹성탈출: 진화의 시작</td>\n",
       "      <td>2011-08-17</td>\n",
       "      <td>미국</td>\n",
       "      <td>액션,SF,드라마</td>\n",
       "      <td>루퍼트 와이어트</td>\n",
       "      <td>브라이언 콕스,제임스 프랭코,프리다 핀토</td>\n",
       "    </tr>\n",
       "    <tr>\n",
       "      <th>15841</th>\n",
       "      <td>15841</td>\n",
       "      <td>환상의 빛</td>\n",
       "      <td>2016-07-07</td>\n",
       "      <td>일본</td>\n",
       "      <td>드라마</td>\n",
       "      <td>고레에다 히로카즈</td>\n",
       "      <td>마키코 에수미,나이토 타카시,아사노 타다노부</td>\n",
       "    </tr>\n",
       "    <tr>\n",
       "      <th>15842</th>\n",
       "      <td>15842</td>\n",
       "      <td>후세: 말하지 못한 내 사랑</td>\n",
       "      <td>2013-03-28</td>\n",
       "      <td>일본</td>\n",
       "      <td>애니메이션,드라마</td>\n",
       "      <td>미야지 마사유키</td>\n",
       "      <td>코토부키 미나코,미야노 마모루,코니시 카츠유키</td>\n",
       "    </tr>\n",
       "    <tr>\n",
       "      <th>15843</th>\n",
       "      <td>15843</td>\n",
       "      <td>흐르는 강물을 어찌 막으랴</td>\n",
       "      <td>1984-12-05</td>\n",
       "      <td>한국</td>\n",
       "      <td>사극,멜로/로맨스,드라마</td>\n",
       "      <td>임권택</td>\n",
       "      <td>김길호,한영수,윤양하,김지영</td>\n",
       "    </tr>\n",
       "  </tbody>\n",
       "</table>\n",
       "<p>15844 rows × 7 columns</p>\n",
       "</div>"
      ],
      "text/plain": [
       "        영화ID              영화명         개봉일  국적              장르         감독  \\\n",
       "0          0            범죄도시2  2022-05-18  한국           범죄,액션        이상용   \n",
       "1          1        아바타: 물의 길  2022-12-14  미국  액션,어드벤처,SF,스릴러    제임스 카메론   \n",
       "2          2          탑건: 매버릭  2022-06-22  미국              액션    조셉 코신스키   \n",
       "3          3    스파이더맨: 노 웨이 홈  2021-12-15  미국      액션,어드벤처,SF       존 왓츠   \n",
       "4          4        한산: 용의 출현  2022-07-27  한국          액션,드라마        김한민   \n",
       "...      ...              ...         ...  ..             ...        ...   \n",
       "15839  15839         허수아비들의 땅  2009-04-30  한국             드라마        노경태   \n",
       "15840  15840     혹성탈출: 진화의 시작  2011-08-17  미국       액션,SF,드라마   루퍼트 와이어트   \n",
       "15841  15841            환상의 빛  2016-07-07  일본             드라마  고레에다 히로카즈   \n",
       "15842  15842  후세: 말하지 못한 내 사랑  2013-03-28  일본       애니메이션,드라마   미야지 마사유키   \n",
       "15843  15843   흐르는 강물을 어찌 막으랴  1984-12-05  한국   사극,멜로/로맨스,드라마        임권택   \n",
       "\n",
       "                                                      배우  \n",
       "0      마동석,손석구,최귀화,박지환,허동원,하준,정재광,남문철,박지영,이주원,음문석,김찬형...  \n",
       "1                       조 샐다나,샘 워싱턴,시고니 위버,스티븐 랭,케이트 윈슬렛  \n",
       "2      톰 크루즈,마일즈 텔러,제니퍼 코넬리,존 햄,에드 해리스,글렌 포웰,제이 엘리스,그...  \n",
       "3          톰 홀랜드,젠데이아 콜먼,베네딕트 컴버배치,제이콥 배덜런,존 파브로,마리사 토메이  \n",
       "4      박해일,이지영,이정태,변요한,안성기,손현주,김성규,김성균,김향기,옥택연,공명,박지환...  \n",
       "...                                                  ...  \n",
       "15839  김선영,박원주,김화정,김두홍,신예슬,황상연,박현진,서민정,최경락,최광수,윤심경,임독...  \n",
       "15840                             브라이언 콕스,제임스 프랭코,프리다 핀토  \n",
       "15841                           마키코 에수미,나이토 타카시,아사노 타다노부  \n",
       "15842                          코토부키 미나코,미야노 마모루,코니시 카츠유키  \n",
       "15843                                    김길호,한영수,윤양하,김지영  \n",
       "\n",
       "[15844 rows x 7 columns]"
      ]
     },
     "execution_count": 3,
     "metadata": {},
     "output_type": "execute_result"
    }
   ],
   "source": [
    "import pandas as pd\n",
    "movie = pd.read_csv(\"../db/movie_list.csv\", index_col=0)\n",
    "movie"
   ]
  },
  {
   "cell_type": "code",
   "execution_count": 4,
   "metadata": {},
   "outputs": [
    {
     "data": {
      "text/plain": [
       "0                  범죄도시2\n",
       "1              아바타: 물의 길\n",
       "2                탑건: 매버릭\n",
       "3          스파이더맨: 노 웨이 홈\n",
       "4              한산: 용의 출현\n",
       "              ...       \n",
       "15839           허수아비들의 땅\n",
       "15840       혹성탈출: 진화의 시작\n",
       "15841              환상의 빛\n",
       "15842    후세: 말하지 못한 내 사랑\n",
       "15843     흐르는 강물을 어찌 막으랴\n",
       "Name: 영화명, Length: 15844, dtype: object"
      ]
     },
     "execution_count": 4,
     "metadata": {},
     "output_type": "execute_result"
    }
   ],
   "source": [
    "movie_list = movie['영화명']\n",
    "movie_list"
   ]
  },
  {
   "cell_type": "code",
   "execution_count": 1,
   "metadata": {},
   "outputs": [],
   "source": [
    "import requests\n",
    "from bs4 import BeautifulSoup\n",
    "import time\n",
    "from selenium import webdriver\n",
    "from selenium.webdriver.common.keys import Keys\n",
    "from selenium.webdriver.common.by import By\n",
    "from tqdm import tqdm\n",
    "from urllib.parse import quote"
   ]
  },
  {
   "cell_type": "code",
   "execution_count": 2,
   "metadata": {},
   "outputs": [],
   "source": [
    "movie = '범죄도시2'"
   ]
  },
  {
   "cell_type": "code",
   "execution_count": 3,
   "metadata": {},
   "outputs": [
    {
     "name": "stderr",
     "output_type": "stream",
     "text": [
      "C:\\Users\\gram15\\AppData\\Local\\Temp\\ipykernel_2844\\1222300948.py:6: DeprecationWarning: executable_path has been deprecated, please pass in a Service object\n",
      "  driver = webdriver.Edge('edgedriver', options=options)\n"
     ]
    }
   ],
   "source": [
    "url = \"https://www.naver.com/\"\n",
    "options = webdriver.EdgeOptions()\n",
    "options.add_argument('--no-sandbox')\n",
    "options.add_argument('--disable-dev-shm-usage')\n",
    "options.add_argument(\"user-agent=Mozilla/5.0 (Windows NT 6.1; WOW64; Trident/7.0; rv:11.0) like Gecko\")\n",
    "driver = webdriver.Edge('edgedriver', options=options)\n",
    "\n",
    "driver.get(url)\n",
    "time.sleep(2)"
   ]
  },
  {
   "cell_type": "code",
   "execution_count": 4,
   "metadata": {},
   "outputs": [],
   "source": [
    "driver.find_element(By.CSS_SELECTOR, '#query').send_keys([f'{movie} 평점', Keys.ENTER])\n",
    "time.sleep(1)"
   ]
  },
  {
   "cell_type": "code",
   "execution_count": 9,
   "metadata": {},
   "outputs": [],
   "source": [
    "# 리뷰/평점 리스트에서 관람객으로 설정되어있을 경우 전체 리뷰로 변경\n",
    "soup = BeautifulSoup(driver.page_source, 'html.parser')\n",
    "\n",
    "if  soup.select_one('._sorting_select_actual._trigger > a > span.menu._trigger_text').get_text() == '관람객':\n",
    "    driver.find_element(By.CSS_SELECTOR, '._sorting_select_actual._trigger').click()\n",
    "    time.sleep(1)\n",
    "    driver.find_element(By.CSS_SELECTOR, '._sorting_select_actual > div > div > div > div > ul > li:nth-child(1) > a').click()\n",
    "else:\n",
    "    pass\n",
    "\n",
    "# 스포일러 허용 버튼\n",
    "driver.find_element(By.CSS_SELECTOR, '._spoiler_switch > button.btn_area_auto').click()"
   ]
  },
  {
   "cell_type": "code",
   "execution_count": null,
   "metadata": {},
   "outputs": [],
   "source": [
    "# 리뷰 전체 내용을 가져오기위해 스크롤을 끝까지 내리는 코드\n",
    "# 스크롤 높이 가져옴\n",
    "last_height = driver.execute_script(\"return document.body.scrollHeight\") \n",
    "element = driver.find_element(By.CSS_SELECTOR, \"#main_pack > div.sc_new.cs_common_module.case_empasis.color_4._au_movie_content_wrap > div.cm_content_wrap > div.cm_content_area._cm_content_area_rating > div\") # 스크롤을 내릴 요소 찾기\n",
    "# 끝까지 스크롤 다운\n",
    "while True:\n",
    "    new_height = element.get_attribute(\"scrollHeight\") # 스크롤 높이 가져오기\n",
    "    if new_height == last_height: # 스크롤 높이가 같으면 중지\n",
    "        break\n",
    "    driver.execute_script(\"scrollTo(0, .scrollHeight);\") # 스크롤 다운\n",
    "    time.sleep(1) # 1초 대기\n",
    "    last_height = new_height # 마지막 스크롤 높이 업데이트"
   ]
  },
  {
   "cell_type": "code",
   "execution_count": 17,
   "metadata": {},
   "outputs": [
    {
     "ename": "JavascriptException",
     "evalue": "Message: javascript error: inner_height is not defined\n  (Session info: MicrosoftEdge=112.0.1722.68)\nStacktrace:\nBacktrace:\n\tGetHandleVerifier [0x00007FF68C07E082+60274]\n\tMicrosoft::Applications::Events::EventProperty::~EventProperty [0x00007FF68C00ECE2+818866]\n\t(No symbol) [0x00007FF68BC8DFAE]\n\t(No symbol) [0x00007FF68BC91C5D]\n\t(No symbol) [0x00007FF68BC918D9]\n\t(No symbol) [0x00007FF68BC92946]\n\t(No symbol) [0x00007FF68BD09A15]\n\t(No symbol) [0x00007FF68BCEF56A]\n\t(No symbol) [0x00007FF68BCC2751]\n\t(No symbol) [0x00007FF68BD0891C]\n\t(No symbol) [0x00007FF68BCEF343]\n\t(No symbol) [0x00007FF68BCC1796]\n\t(No symbol) [0x00007FF68BCC0975]\n\t(No symbol) [0x00007FF68BCC1F04]\n\tMicrosoft::Applications::Events::EventProperties::SetLevel [0x00007FF68BF17177+1678103]\n\tMicrosoft::Applications::Events::EventProperties::SetLevel [0x00007FF68BDBEECD+268397]\n\tMicrosoft::Applications::Events::EventProperty::~EventProperty [0x00007FF68BF4FE87+36951]\n\tMicrosoft::Applications::Events::EventProperty::~EventProperty [0x00007FF68BF47F95+4453]\n\tMicrosoft::Applications::Events::ILogManager::DispatchEventBroadcast [0x00007FF68C2481C3+1318403]\n\tMicrosoft::Applications::Events::EventProperty::~EventProperty [0x00007FF68C016D9C+851820]\n\tMicrosoft::Applications::Events::EventProperty::~EventProperty [0x00007FF68C012E04+835540]\n\tMicrosoft::Applications::Events::EventProperty::~EventProperty [0x00007FF68C012F5C+835884]\n\tMicrosoft::Applications::Events::EventProperty::~EventProperty [0x00007FF68C008B31+793857]\n\tBaseThreadInitThunk [0x00007FFF9B8C269D+29]\n\tRtlUserThreadStart [0x00007FFF9D50A9F8+40]\n",
     "output_type": "error",
     "traceback": [
      "\u001b[1;31m---------------------------------------------------------------------------\u001b[0m",
      "\u001b[1;31mJavascriptException\u001b[0m                       Traceback (most recent call last)",
      "Cell \u001b[1;32mIn[17], line 6\u001b[0m\n\u001b[0;32m      4\u001b[0m \u001b[39m# 내부 스크롤 다운\u001b[39;00m\n\u001b[0;32m      5\u001b[0m \u001b[39mwhile\u001b[39;00m \u001b[39mTrue\u001b[39;00m:\n\u001b[1;32m----> 6\u001b[0m     driver\u001b[39m.\u001b[39;49mexecute_script(\u001b[39m\"\u001b[39;49m\u001b[39marguments[0].scrollBy(0, inner_height)\u001b[39;49m\u001b[39m\"\u001b[39;49m, driver\u001b[39m.\u001b[39;49mfind_element(By\u001b[39m.\u001b[39;49mCSS_SELECTOR, \u001b[39m\"\u001b[39;49m\u001b[39m._cm_content_area_rating > div > div:nth-child(2) > div.lego_review_list._scroller\u001b[39;49m\u001b[39m\"\u001b[39;49m))\n\u001b[0;32m      7\u001b[0m     time\u001b[39m.\u001b[39msleep(\u001b[39m0.1\u001b[39m)\n\u001b[0;32m      8\u001b[0m     new_height \u001b[39m=\u001b[39m driver\u001b[39m.\u001b[39mexecute_script(\u001b[39m\"\u001b[39m\u001b[39mreturn document.querySelector(\u001b[39m\u001b[39m'\u001b[39m\u001b[39m.lego_review_list._scroller\u001b[39m\u001b[39m'\u001b[39m\u001b[39m).scrollHeight\u001b[39m\u001b[39m\"\u001b[39m)\n",
      "File \u001b[1;32m~\\AppData\\Roaming\\Python\\Python311\\site-packages\\selenium\\webdriver\\remote\\webdriver.py:500\u001b[0m, in \u001b[0;36mWebDriver.execute_script\u001b[1;34m(self, script, *args)\u001b[0m\n\u001b[0;32m    497\u001b[0m converted_args \u001b[39m=\u001b[39m \u001b[39mlist\u001b[39m(args)\n\u001b[0;32m    498\u001b[0m command \u001b[39m=\u001b[39m Command\u001b[39m.\u001b[39mW3C_EXECUTE_SCRIPT\n\u001b[1;32m--> 500\u001b[0m \u001b[39mreturn\u001b[39;00m \u001b[39mself\u001b[39;49m\u001b[39m.\u001b[39;49mexecute(command, {\u001b[39m\"\u001b[39;49m\u001b[39mscript\u001b[39;49m\u001b[39m\"\u001b[39;49m: script, \u001b[39m\"\u001b[39;49m\u001b[39margs\u001b[39;49m\u001b[39m\"\u001b[39;49m: converted_args})[\u001b[39m\"\u001b[39m\u001b[39mvalue\u001b[39m\u001b[39m\"\u001b[39m]\n",
      "File \u001b[1;32m~\\AppData\\Roaming\\Python\\Python311\\site-packages\\selenium\\webdriver\\remote\\webdriver.py:440\u001b[0m, in \u001b[0;36mWebDriver.execute\u001b[1;34m(self, driver_command, params)\u001b[0m\n\u001b[0;32m    438\u001b[0m response \u001b[39m=\u001b[39m \u001b[39mself\u001b[39m\u001b[39m.\u001b[39mcommand_executor\u001b[39m.\u001b[39mexecute(driver_command, params)\n\u001b[0;32m    439\u001b[0m \u001b[39mif\u001b[39;00m response:\n\u001b[1;32m--> 440\u001b[0m     \u001b[39mself\u001b[39;49m\u001b[39m.\u001b[39;49merror_handler\u001b[39m.\u001b[39;49mcheck_response(response)\n\u001b[0;32m    441\u001b[0m     response[\u001b[39m\"\u001b[39m\u001b[39mvalue\u001b[39m\u001b[39m\"\u001b[39m] \u001b[39m=\u001b[39m \u001b[39mself\u001b[39m\u001b[39m.\u001b[39m_unwrap_value(response\u001b[39m.\u001b[39mget(\u001b[39m\"\u001b[39m\u001b[39mvalue\u001b[39m\u001b[39m\"\u001b[39m, \u001b[39mNone\u001b[39;00m))\n\u001b[0;32m    442\u001b[0m     \u001b[39mreturn\u001b[39;00m response\n",
      "File \u001b[1;32m~\\AppData\\Roaming\\Python\\Python311\\site-packages\\selenium\\webdriver\\remote\\errorhandler.py:245\u001b[0m, in \u001b[0;36mErrorHandler.check_response\u001b[1;34m(self, response)\u001b[0m\n\u001b[0;32m    243\u001b[0m         alert_text \u001b[39m=\u001b[39m value[\u001b[39m\"\u001b[39m\u001b[39malert\u001b[39m\u001b[39m\"\u001b[39m]\u001b[39m.\u001b[39mget(\u001b[39m\"\u001b[39m\u001b[39mtext\u001b[39m\u001b[39m\"\u001b[39m)\n\u001b[0;32m    244\u001b[0m     \u001b[39mraise\u001b[39;00m exception_class(message, screen, stacktrace, alert_text)  \u001b[39m# type: ignore[call-arg]  # mypy is not smart enough here\u001b[39;00m\n\u001b[1;32m--> 245\u001b[0m \u001b[39mraise\u001b[39;00m exception_class(message, screen, stacktrace)\n",
      "\u001b[1;31mJavascriptException\u001b[0m: Message: javascript error: inner_height is not defined\n  (Session info: MicrosoftEdge=112.0.1722.68)\nStacktrace:\nBacktrace:\n\tGetHandleVerifier [0x00007FF68C07E082+60274]\n\tMicrosoft::Applications::Events::EventProperty::~EventProperty [0x00007FF68C00ECE2+818866]\n\t(No symbol) [0x00007FF68BC8DFAE]\n\t(No symbol) [0x00007FF68BC91C5D]\n\t(No symbol) [0x00007FF68BC918D9]\n\t(No symbol) [0x00007FF68BC92946]\n\t(No symbol) [0x00007FF68BD09A15]\n\t(No symbol) [0x00007FF68BCEF56A]\n\t(No symbol) [0x00007FF68BCC2751]\n\t(No symbol) [0x00007FF68BD0891C]\n\t(No symbol) [0x00007FF68BCEF343]\n\t(No symbol) [0x00007FF68BCC1796]\n\t(No symbol) [0x00007FF68BCC0975]\n\t(No symbol) [0x00007FF68BCC1F04]\n\tMicrosoft::Applications::Events::EventProperties::SetLevel [0x00007FF68BF17177+1678103]\n\tMicrosoft::Applications::Events::EventProperties::SetLevel [0x00007FF68BDBEECD+268397]\n\tMicrosoft::Applications::Events::EventProperty::~EventProperty [0x00007FF68BF4FE87+36951]\n\tMicrosoft::Applications::Events::EventProperty::~EventProperty [0x00007FF68BF47F95+4453]\n\tMicrosoft::Applications::Events::ILogManager::DispatchEventBroadcast [0x00007FF68C2481C3+1318403]\n\tMicrosoft::Applications::Events::EventProperty::~EventProperty [0x00007FF68C016D9C+851820]\n\tMicrosoft::Applications::Events::EventProperty::~EventProperty [0x00007FF68C012E04+835540]\n\tMicrosoft::Applications::Events::EventProperty::~EventProperty [0x00007FF68C012F5C+835884]\n\tMicrosoft::Applications::Events::EventProperty::~EventProperty [0x00007FF68C008B31+793857]\n\tBaseThreadInitThunk [0x00007FFF9B8C269D+29]\n\tRtlUserThreadStart [0x00007FFF9D50A9F8+40]\n"
     ]
    }
   ],
   "source": [
    "# 내부 스크롤 가져오기\n",
    "inner_height = driver.execute_script(\"return document.querySelector('#main_pack > div.sc_new.cs_common_module.case_empasis.color_4._au_movie_content_wrap > div.cm_content_wrap > div.cm_content_area._cm_content_area_rating > div > div:nth-child(2) > div.lego_review_list._scroller').scrollHeight\")\n",
    "\n",
    "# 내부 스크롤 다운\n",
    "while True:\n",
    "    driver.execute_script(\"arguments[0].scrollBy(0, inner_height)\", driver.find_element(By.CSS_SELECTOR, \"._cm_content_area_rating > div > div:nth-child(2) > div.lego_review_list._scroller\"))\n",
    "    time.sleep(0.1)\n",
    "    new_height = driver.execute_script(\"return document.querySelector('.lego_review_list._scroller').scrollHeight\")\n",
    "    if new_height == inner_height:\n",
    "        break\n",
    "    last_height = new_height\n",
    "\n",
    "driver.quit()"
   ]
  },
  {
   "cell_type": "code",
   "execution_count": 140,
   "metadata": {},
   "outputs": [
    {
     "data": {
      "text/plain": [
       "'마동석외에도 연기 좋아요 '"
      ]
     },
     "execution_count": 140,
     "metadata": {},
     "output_type": "execute_result"
    }
   ],
   "source": [
    "# 리뷰만 추출\n",
    "review = soup.select_one('ul > li:nth-child(2) > div.area_review_content > div > ._text').get_text()\n",
    "review"
   ]
  },
  {
   "cell_type": "code",
   "execution_count": 129,
   "metadata": {},
   "outputs": [
    {
     "data": {
      "text/plain": [
       "'별점(10점 만점 중)8'"
      ]
     },
     "execution_count": 129,
     "metadata": {},
     "output_type": "execute_result"
    }
   ],
   "source": [
    "# 평점 요소\n",
    "rating = soup.select_one('li:nth-child(3) > div.area_title_box > div > div.area_text_box').get_text()\n",
    "rating"
   ]
  },
  {
   "cell_type": "code",
   "execution_count": 128,
   "metadata": {},
   "outputs": [
    {
     "data": {
      "text/plain": [
       "'8'"
      ]
     },
     "execution_count": 128,
     "metadata": {},
     "output_type": "execute_result"
    }
   ],
   "source": [
    "# 맨 뒤에 평점만 추출\n",
    "rating[-1:]"
   ]
  }
 ],
 "metadata": {
  "kernelspec": {
   "display_name": "Python 3",
   "language": "python",
   "name": "python3"
  },
  "language_info": {
   "codemirror_mode": {
    "name": "ipython",
    "version": 3
   },
   "file_extension": ".py",
   "mimetype": "text/x-python",
   "name": "python",
   "nbconvert_exporter": "python",
   "pygments_lexer": "ipython3",
   "version": "3.11.0"
  },
  "orig_nbformat": 4
 },
 "nbformat": 4,
 "nbformat_minor": 2
}
