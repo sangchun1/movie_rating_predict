{
 "cells": [
  {
   "cell_type": "code",
   "execution_count": 1,
   "metadata": {},
   "outputs": [],
   "source": [
    "import pandas as pd\n",
    "\n",
    "df = pd.read_csv(\"../data/review_rating.csv\")"
   ]
  },
  {
   "cell_type": "code",
   "execution_count": 2,
   "metadata": {},
   "outputs": [
    {
     "data": {
      "text/plain": [
       "3420"
      ]
     },
     "execution_count": 2,
     "metadata": {},
     "output_type": "execute_result"
    }
   ],
   "source": [
    "len(df)"
   ]
  },
  {
   "cell_type": "code",
   "execution_count": 3,
   "metadata": {},
   "outputs": [
    {
     "data": {
      "text/plain": [
       "(2727, 10)"
      ]
     },
     "execution_count": 3,
     "metadata": {},
     "output_type": "execute_result"
    }
   ],
   "source": [
    "# 중복되지 않은 데이터 확인\n",
    "df['1'].nunique(), df['0'].nunique()\n",
    "# 중복값이 약 700개"
   ]
  },
  {
   "cell_type": "code",
   "execution_count": 4,
   "metadata": {},
   "outputs": [
    {
     "data": {
      "text/plain": [
       "688"
      ]
     },
     "execution_count": 4,
     "metadata": {},
     "output_type": "execute_result"
    }
   ],
   "source": [
    "df.duplicated().sum()"
   ]
  },
  {
   "cell_type": "code",
   "execution_count": 5,
   "metadata": {},
   "outputs": [
    {
     "data": {
      "text/plain": [
       "2732"
      ]
     },
     "execution_count": 5,
     "metadata": {},
     "output_type": "execute_result"
    }
   ],
   "source": [
    "#중복값 제거\n",
    "df.drop_duplicates(inplace=True)\n",
    "len(df)"
   ]
  },
  {
   "cell_type": "code",
   "execution_count": 6,
   "metadata": {},
   "outputs": [
    {
     "data": {
      "image/png": "[encoded data removed]",
      "text/plain": [
       "<Figure size 640x480 with 1 Axes>"
      ]
     },
     "metadata": {},
     "output_type": "display_data"
    }
   ],
   "source": [
    "import matplotlib.pyplot as plt\n",
    "df['0'].value_counts().plot(kind = 'bar')\n",
    "plt.show()"
   ]
  },
  {
   "cell_type": "code",
   "execution_count": 7,
   "metadata": {},
   "outputs": [
    {
     "name": "stderr",
     "output_type": "stream",
     "text": [
      "C:\\Users\\tjoeun\\AppData\\Local\\Temp\\ipykernel_5492\\789926941.py:2: FutureWarning: The default value of regex will change from True to False in a future version.\n",
      "  df['1'] = df['1'].str.replace(\"[^ㄱ-ㅎㅏ-ㅣ가-힣0-9 ]\",\"\")\n"
     ]
    },
    {
     "data": {
      "text/html": [
       "<div>\n",
       "<style scoped>\n",
       "    .dataframe tbody tr th:only-of-type {\n",
       "        vertical-align: middle;\n",
       "    }\n",
       "\n",
       "    .dataframe tbody tr th {\n",
       "        vertical-align: top;\n",
       "    }\n",
       "\n",
       "    .dataframe thead th {\n",
       "        text-align: right;\n",
       "    }\n",
       "</style>\n",
       "<table border=\"1\" class=\"dataframe\">\n",
       "  <thead>\n",
       "    <tr style=\"text-align: right;\">\n",
       "      <th></th>\n",
       "      <th>0</th>\n",
       "      <th>1</th>\n",
       "      <th>2</th>\n",
       "    </tr>\n",
       "  </thead>\n",
       "  <tbody>\n",
       "    <tr>\n",
       "      <th>0</th>\n",
       "      <td>7</td>\n",
       "      <td>어우 의자에 앉아서 스크린으로 보는데도 느껴지는 타격감</td>\n",
       "      <td>범죄도시2</td>\n",
       "    </tr>\n",
       "    <tr>\n",
       "      <th>1</th>\n",
       "      <td>8</td>\n",
       "      <td>범죄도시3이 기대돼요</td>\n",
       "      <td>범죄도시2</td>\n",
       "    </tr>\n",
       "    <tr>\n",
       "      <th>2</th>\n",
       "      <td>5</td>\n",
       "      <td>범죄도시3가 기대됩니다</td>\n",
       "      <td>범죄도시2</td>\n",
       "    </tr>\n",
       "  </tbody>\n",
       "</table>\n",
       "</div>"
      ],
      "text/plain": [
       "   0                               1      2\n",
       "0  7  어우 의자에 앉아서 스크린으로 보는데도 느껴지는 타격감  범죄도시2\n",
       "1  8                     범죄도시3이 기대돼요  범죄도시2\n",
       "2  5                    범죄도시3가 기대됩니다  범죄도시2"
      ]
     },
     "execution_count": 7,
     "metadata": {},
     "output_type": "execute_result"
    }
   ],
   "source": [
    "#특수문자,기호 제거\n",
    "df['1'] = df['1'].str.replace(\"[^ㄱ-ㅎㅏ-ㅣ가-힣0-9 ]\",\"\")\n",
    "df[:3]"
   ]
  },
  {
   "cell_type": "code",
   "execution_count": 8,
   "metadata": {},
   "outputs": [
    {
     "name": "stderr",
     "output_type": "stream",
     "text": [
      "C:\\Users\\tjoeun\\AppData\\Local\\Temp\\ipykernel_5492\\3960239143.py:3: FutureWarning: The default value of regex will change from True to False in a future version.\n",
      "  df['1'] = df['1'].str.replace('^ +', \"\")\n"
     ]
    },
    {
     "data": {
      "text/plain": [
       "0    0\n",
       "1    5\n",
       "2    0\n",
       "dtype: int64"
      ]
     },
     "execution_count": 8,
     "metadata": {},
     "output_type": "execute_result"
    }
   ],
   "source": [
    "import numpy as np\n",
    "#공백 제거\n",
    "df['1'] = df['1'].str.replace('^ +', \"\")\n",
    "df['1'].replace('', np.nan, inplace=True)\n",
    "df.isnull().sum()"
   ]
  },
  {
   "cell_type": "code",
   "execution_count": 9,
   "metadata": {},
   "outputs": [
    {
     "data": {
      "text/html": [
       "<div>\n",
       "<style scoped>\n",
       "    .dataframe tbody tr th:only-of-type {\n",
       "        vertical-align: middle;\n",
       "    }\n",
       "\n",
       "    .dataframe tbody tr th {\n",
       "        vertical-align: top;\n",
       "    }\n",
       "\n",
       "    .dataframe thead th {\n",
       "        text-align: right;\n",
       "    }\n",
       "</style>\n",
       "<table border=\"1\" class=\"dataframe\">\n",
       "  <thead>\n",
       "    <tr style=\"text-align: right;\">\n",
       "      <th></th>\n",
       "      <th>0</th>\n",
       "      <th>1</th>\n",
       "      <th>2</th>\n",
       "    </tr>\n",
       "  </thead>\n",
       "  <tbody>\n",
       "    <tr>\n",
       "      <th>93</th>\n",
       "      <td>10</td>\n",
       "      <td>NaN</td>\n",
       "      <td>스파이더맨: 노 웨이 홈</td>\n",
       "    </tr>\n",
       "    <tr>\n",
       "      <th>2049</th>\n",
       "      <td>6</td>\n",
       "      <td>NaN</td>\n",
       "      <td>킹메이커</td>\n",
       "    </tr>\n",
       "    <tr>\n",
       "      <th>2209</th>\n",
       "      <td>10</td>\n",
       "      <td>NaN</td>\n",
       "      <td>자백</td>\n",
       "    </tr>\n",
       "  </tbody>\n",
       "</table>\n",
       "</div>"
      ],
      "text/plain": [
       "       0    1              2\n",
       "93    10  NaN  스파이더맨: 노 웨이 홈\n",
       "2049   6  NaN           킹메이커\n",
       "2209  10  NaN             자백"
      ]
     },
     "execution_count": 9,
     "metadata": {},
     "output_type": "execute_result"
    }
   ],
   "source": [
    "df.loc[df['1'].isnull()][:3]"
   ]
  },
  {
   "cell_type": "code",
   "execution_count": 10,
   "metadata": {},
   "outputs": [
    {
     "data": {
      "text/plain": [
       "2727"
      ]
     },
     "execution_count": 10,
     "metadata": {},
     "output_type": "execute_result"
    }
   ],
   "source": [
    "#null 샘플 제거\n",
    "df = df.dropna(how = 'any')\n",
    "len(df)"
   ]
  },
  {
   "cell_type": "code",
   "execution_count": 11,
   "metadata": {},
   "outputs": [],
   "source": [
    "# 불용어 사전\n",
    "stopwords = ['의','가','이','은','들','는','좀','잘','걍','과','도','를','으로','자','에','와','한','하다']"
   ]
  },
  {
   "cell_type": "code",
   "execution_count": 12,
   "metadata": {},
   "outputs": [],
   "source": [
    "from sklearn.model_selection import train_test_split\n",
    "\n",
    "y = df['0']\n",
    "X = df['1']\n",
    "X_train, X_test, y_train, y_test = train_test_split(X, y, test_size=0.2, random_state=0, stratify=y)"
   ]
  },
  {
   "cell_type": "code",
   "execution_count": 13,
   "metadata": {},
   "outputs": [],
   "source": [
    "from konlpy.tag import Okt\n",
    "okt = Okt()\n",
    "X_train_lis = []\n",
    "#형태소 분석\n",
    "for sentence in X_train:\n",
    "    temp_X = okt.morphs(sentence, stem=True) # 토큰화\n",
    "    temp_X = [word for word in temp_X if not word in stopwords] # 불용어 제거\n",
    "    X_train_lis.append(temp_X)"
   ]
  },
  {
   "cell_type": "code",
   "execution_count": 14,
   "metadata": {},
   "outputs": [
    {
     "name": "stdout",
     "output_type": "stream",
     "text": [
      "[['홍길동', '아니다', '리메이크', '리메이크', '라', '말', '을', '못'], ['기대', '크다', '보다', '90년', '대', '향수', '불러일으키다', '기', '에도', '역', '부족', '이다', '연출', '연기', '아쉬움', '많이', '남다'], ['포스터', '급', '인데', '재미', '급', '코미디', '영화', '기대다', '단', '1', '안', '하고', '보다', '끝', '까지', '웃기다']]\n"
     ]
    }
   ],
   "source": [
    "print(X_train_lis[:3])"
   ]
  },
  {
   "cell_type": "code",
   "execution_count": 15,
   "metadata": {},
   "outputs": [],
   "source": [
    "from konlpy.tag import Okt\n",
    "okt = Okt()\n",
    "X_test_lis = []\n",
    "#형태소 분석\n",
    "for sentence in X_test:\n",
    "    temp_X = okt.morphs(sentence, stem=True) # 토큰화\n",
    "    temp_X = [word for word in temp_X if not word in stopwords] # 불용어 제거\n",
    "    X_test_lis.append(temp_X)"
   ]
  },
  {
   "cell_type": "code",
   "execution_count": 16,
   "metadata": {},
   "outputs": [],
   "source": [
    "from tensorflow.keras.preprocessing.text import Tokenizer\n",
    "# 정수 인코딩\n",
    "tokenizer = Tokenizer()\n",
    "tokenizer.fit_on_texts(X_train_lis)\n",
    "#print(tokenizer.word_index)"
   ]
  },
  {
   "cell_type": "code",
   "execution_count": 17,
   "metadata": {},
   "outputs": [
    {
     "name": "stdout",
     "output_type": "stream",
     "text": [
      "5355\n",
      "3494\n"
     ]
    }
   ],
   "source": [
    "# 출현빈도가 3회 미만인 단어들\n",
    "threshold = 3\n",
    "total_cnt = len(tokenizer.word_index) # 단어수\n",
    "rare_cnt = 0\n",
    "total_freq = 0\n",
    "rare_freq = 0\n",
    "for key, value in tokenizer.word_counts.items():\n",
    "    total_freq = total_freq + value\n",
    "    if(value < threshold):\n",
    "        rare_cnt = rare_cnt + 1\n",
    "        rare_freq = rare_freq + value\n",
    "print(total_cnt) #단어집합 크기\n",
    "print(rare_cnt) #희귀단어수"
   ]
  },
  {
   "cell_type": "code",
   "execution_count": 18,
   "metadata": {},
   "outputs": [
    {
     "name": "stdout",
     "output_type": "stream",
     "text": [
      "단어 집합의 크기 : 1862\n"
     ]
    }
   ],
   "source": [
    "vocab_size = total_cnt - rare_cnt + 1\n",
    "print('단어 집합의 크기 :', vocab_size)"
   ]
  },
  {
   "cell_type": "code",
   "execution_count": 19,
   "metadata": {},
   "outputs": [],
   "source": [
    "tokenizer = Tokenizer(vocab_size)\n",
    "tokenizer.fit_on_texts(X_train_lis) #텍스트를 숫자 시퀀스로 변환\n",
    "X_train = tokenizer.texts_to_sequences(X_train_lis)\n",
    "X_test = tokenizer.texts_to_sequences(X_test_lis)"
   ]
  },
  {
   "cell_type": "code",
   "execution_count": 20,
   "metadata": {},
   "outputs": [
    {
     "name": "stdout",
     "output_type": "stream",
     "text": [
      "[[23, 440, 440, 145, 58, 3, 50], [95, 122, 1, 1172, 134, 96, 349, 503, 8, 35, 10, 414, 74, 170], [131, 89, 80, 131, 383, 2, 1173, 826, 43, 27, 65, 1, 114, 36, 141]]\n"
     ]
    }
   ],
   "source": [
    "print(X_train[:3])"
   ]
  },
  {
   "cell_type": "code",
   "execution_count": 21,
   "metadata": {},
   "outputs": [],
   "source": [
    "y_train = np.array(y_train)\n",
    "y_test = np.array(y_test)"
   ]
  },
  {
   "cell_type": "code",
   "execution_count": 22,
   "metadata": {},
   "outputs": [],
   "source": [
    "max_len=max(len(l) for l in X_train) #리뷰의 최대 길이"
   ]
  },
  {
   "cell_type": "code",
   "execution_count": 23,
   "metadata": {},
   "outputs": [
    {
     "data": {
      "text/plain": [
       "91.0132966529115"
      ]
     },
     "execution_count": 23,
     "metadata": {},
     "output_type": "execute_result"
    }
   ],
   "source": [
    "cnt = 0\n",
    "for s in X_train:\n",
    "    if(len(s) <= 30):\n",
    "        cnt = cnt + 1\n",
    "#최대 길이 이하인 샘플의 비율\n",
    "(cnt / len(X_train))*100"
   ]
  },
  {
   "cell_type": "code",
   "execution_count": 24,
   "metadata": {},
   "outputs": [],
   "source": [
    "from tensorflow.keras.preprocessing.sequence import pad_sequences\n",
    "X_train = pad_sequences(X_train, maxlen = max_len)\n",
    "X_test = pad_sequences(X_test, maxlen = max_len)"
   ]
  },
  {
   "cell_type": "code",
   "execution_count": 32,
   "metadata": {},
   "outputs": [
    {
     "name": "stdout",
     "output_type": "stream",
     "text": [
      "Model: \"sequential_2\"\n",
      "_________________________________________________________________\n",
      " Layer (type)                Output Shape              Param #   \n",
      "=================================================================\n",
      " embedding_2 (Embedding)     (None, None, 100)         186200    \n",
      "                                                                 \n",
      " lstm_2 (LSTM)               (None, 128)               117248    \n",
      "                                                                 \n",
      " dense_2 (Dense)             (None, 1)                 129       \n",
      "                                                                 \n",
      "=================================================================\n",
      "Total params: 303,577\n",
      "Trainable params: 303,577\n",
      "Non-trainable params: 0\n",
      "_________________________________________________________________\n"
     ]
    }
   ],
   "source": [
    "from tensorflow.keras.layers import Embedding, Dense, LSTM\n",
    "from tensorflow.keras.models import Sequential\n",
    "from tensorflow.keras.models import load_model\n",
    "from tensorflow.keras.callbacks import EarlyStopping, ModelCheckpoint\n",
    "model = Sequential()\n",
    "model.add(Embedding(vocab_size, 100))\n",
    "model.add(LSTM(128))\n",
    "model.add(Dense(1, activation='linear'))\n",
    "model.compile(optimizer='adam', loss='mse', metrics=['acc'])\n",
    "model.summary()"
   ]
  },
  {
   "cell_type": "code",
   "execution_count": 33,
   "metadata": {},
   "outputs": [
    {
     "name": "stdout",
     "output_type": "stream",
     "text": [
      "Epoch 1/10\n",
      "28/28 [==============================] - ETA: 0s - loss: 26.6646 - acc: 0.0768\n",
      "Epoch 1: val_acc improved from -inf to 0.07551, saving model to ../model\\review_RNN.h5\n",
      "28/28 [==============================] - 3s 34ms/step - loss: 26.6646 - acc: 0.0768 - val_loss: 9.1457 - val_acc: 0.0755\n",
      "Epoch 2/10\n",
      "28/28 [==============================] - ETA: 0s - loss: 9.7645 - acc: 0.1015\n",
      "Epoch 2: val_acc did not improve from 0.07551\n",
      "28/28 [==============================] - 0s 17ms/step - loss: 9.7645 - acc: 0.1015 - val_loss: 8.9112 - val_acc: 0.0755\n",
      "Epoch 3/10\n",
      "25/28 [=========================>....] - ETA: 0s - loss: 9.6016 - acc: 0.0994\n",
      "Epoch 3: val_acc did not improve from 0.07551\n",
      "28/28 [==============================] - 0s 17ms/step - loss: 9.6021 - acc: 0.1015 - val_loss: 8.7580 - val_acc: 0.0755\n",
      "Epoch 4/10\n",
      "25/28 [=========================>....] - ETA: 0s - loss: 9.0934 - acc: 0.1000\n",
      "Epoch 4: val_acc did not improve from 0.07551\n",
      "28/28 [==============================] - 0s 17ms/step - loss: 9.1422 - acc: 0.1015 - val_loss: 8.6131 - val_acc: 0.0755\n",
      "Epoch 5/10\n",
      "25/28 [=========================>....] - ETA: 0s - loss: 8.2038 - acc: 0.1019\n",
      "Epoch 5: val_acc did not improve from 0.07551\n",
      "28/28 [==============================] - 0s 17ms/step - loss: 8.1500 - acc: 0.1015 - val_loss: 8.0096 - val_acc: 0.0755\n",
      "Epoch 6/10\n",
      "25/28 [=========================>....] - ETA: 0s - loss: 6.8054 - acc: 0.1006\n",
      "Epoch 6: val_acc did not improve from 0.07551\n",
      "28/28 [==============================] - 0s 16ms/step - loss: 6.6851 - acc: 0.1015 - val_loss: 7.6222 - val_acc: 0.0755\n",
      "Epoch 7/10\n",
      "25/28 [=========================>....] - ETA: 0s - loss: 4.8626 - acc: 0.0994\n",
      "Epoch 7: val_acc did not improve from 0.07551\n",
      "28/28 [==============================] - 1s 20ms/step - loss: 4.8332 - acc: 0.1015 - val_loss: 7.4828 - val_acc: 0.0755\n",
      "Epoch 8/10\n",
      "25/28 [=========================>....] - ETA: 0s - loss: 3.5406 - acc: 0.1006\n",
      "Epoch 8: val_acc did not improve from 0.07551\n",
      "28/28 [==============================] - 0s 16ms/step - loss: 3.5623 - acc: 0.1003 - val_loss: 7.2095 - val_acc: 0.0755\n",
      "Epoch 9/10\n",
      "25/28 [=========================>....] - ETA: 0s - loss: 2.8096 - acc: 0.0988\n",
      "Epoch 9: val_acc did not improve from 0.07551\n",
      "28/28 [==============================] - 0s 17ms/step - loss: 2.8138 - acc: 0.1003 - val_loss: 7.8377 - val_acc: 0.0732\n",
      "Epoch 10/10\n",
      "25/28 [=========================>....] - ETA: 0s - loss: 2.3186 - acc: 0.1006\n",
      "Epoch 10: val_acc did not improve from 0.07551\n",
      "28/28 [==============================] - 0s 16ms/step - loss: 2.3663 - acc: 0.0998 - val_loss: 7.7364 - val_acc: 0.0709\n"
     ]
    }
   ],
   "source": [
    "es = EarlyStopping(monitor='val_loss', mode='min', patience=5)\n",
    "mc = ModelCheckpoint('../model/review_RNN.h5', monitor='val_acc', mode='max', verbose=1, save_best_only=True)\n",
    "hist = model.fit(X_train, y_train, batch_size = 64, epochs=10, validation_split=0.2, callbacks=[es, mc])"
   ]
  },
  {
   "cell_type": "code",
   "execution_count": 34,
   "metadata": {},
   "outputs": [
    {
     "name": "stdout",
     "output_type": "stream",
     "text": [
      "18/18 [==============================] - 0s 5ms/step - loss: 9.9161 - acc: 0.0971\n"
     ]
    },
    {
     "data": {
      "text/plain": [
       "[9.9160795211792, 0.09706959873437881]"
      ]
     },
     "execution_count": 34,
     "metadata": {},
     "output_type": "execute_result"
    }
   ],
   "source": [
    "loaded_model = load_model('../model/review_RNN.h5')\n",
    "loaded_model.evaluate(X_test, y_test)"
   ]
  },
  {
   "cell_type": "code",
   "execution_count": 35,
   "metadata": {},
   "outputs": [
    {
     "data": {
      "image/png": "[encoded data removed]",
      "text/plain": [
       "<Figure size 1200x800 with 1 Axes>"
      ]
     },
     "metadata": {},
     "output_type": "display_data"
    }
   ],
   "source": [
    "# 모델 학습 과정 표시\n",
    "import matplotlib.pyplot as plt\n",
    "plt.figure(figsize=(12,8))\n",
    "plt.plot(hist.history['loss']) #손실\n",
    "plt.plot(hist.history['acc']) #정확도\n",
    "plt.legend(['loss','accuracy'])\n",
    "plt.grid()\n",
    "plt.show()"
   ]
  }
 ],
 "metadata": {
  "kernelspec": {
   "display_name": "base",
   "language": "python",
   "name": "python3"
  },
  "language_info": {
   "codemirror_mode": {
    "name": "ipython",
    "version": 3
   },
   "file_extension": ".py",
   "mimetype": "text/x-python",
   "name": "python",
   "nbconvert_exporter": "python",
   "pygments_lexer": "ipython3",
   "version": "3.9.13"
  },
  "orig_nbformat": 4,
  "vscode": {
   "interpreter": {
    "hash": "ff4f85d6e04298634172ac5d8264e7e9b556b95639fe52ebb9425c4d4cba0c9c"
   }
  }
 },
 "nbformat": 4,
 "nbformat_minor": 2
}
